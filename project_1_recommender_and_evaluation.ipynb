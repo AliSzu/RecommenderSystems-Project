{
 "cells": [
  {
   "cell_type": "code",
   "execution_count": 1,
   "id": "alike-morgan",
   "metadata": {},
   "outputs": [],
   "source": [
    "%matplotlib inline\n",
    "%load_ext autoreload\n",
    "%autoreload 2\n",
    "\n",
    "import numpy as np\n",
    "import pandas as pd\n",
    "import matplotlib.pyplot as plt\n",
    "import seaborn as sns\n",
    "from IPython.display import Markdown, display, HTML\n",
    "from collections import defaultdict\n",
    "\n",
    "# Fix the dying kernel problem (only a problem in some installations - you can remove it, if it works without it)\n",
    "import os\n",
    "os.environ['KMP_DUPLICATE_LIB_OK'] = 'True'"
   ]
  },
  {
   "cell_type": "markdown",
   "id": "blessed-knitting",
   "metadata": {},
   "source": [
    "# Load the dataset for recommenders"
   ]
  },
  {
   "cell_type": "code",
   "execution_count": 2,
   "id": "victorian-bottom",
   "metadata": {},
   "outputs": [
    {
     "data": {
      "text/plain": "    user_id  item_id            term length_of_stay_bucket rate_plan  \\\n0         1        0  WinterVacation                 [2-3]  Standard   \n1         2        1  WinterVacation                 [2-3]  Standard   \n2         3        2  WinterVacation                 [2-3]  Standard   \n3         4        3  WinterVacation                 [4-7]  Standard   \n4         5        4  WinterVacation                 [4-7]  Standard   \n5         6        5          Easter                 [4-7]  Standard   \n6         7        6       OffSeason                 [2-3]  Standard   \n7         8        7      HighSeason                 [2-3]  Standard   \n8         9        8      HighSeason                 [2-3]  Standard   \n9         8        7      HighSeason                 [2-3]  Standard   \n10        8        7      HighSeason                 [2-3]  Standard   \n11       10        9      HighSeason                 [2-3]  Standard   \n12       11        9      HighSeason                 [2-3]  Standard   \n13       12       10      HighSeason               [8-inf]  Standard   \n14       15       11       LowSeason                 [2-3]  Standard   \n\n   room_segment n_people_bucket weekend_stay  \n0     [260-360]         [5-inf]         True  \n1     [160-260]           [3-4]         True  \n2     [160-260]           [2-2]        False  \n3     [160-260]           [3-4]         True  \n4       [0-160]           [2-2]         True  \n5     [260-360]         [5-inf]         True  \n6     [260-360]         [5-inf]         True  \n7     [160-260]           [1-1]         True  \n8       [0-160]           [1-1]         True  \n9     [160-260]           [1-1]         True  \n10    [160-260]           [1-1]         True  \n11    [160-260]           [3-4]         True  \n12    [160-260]           [3-4]         True  \n13    [160-260]           [3-4]         True  \n14    [160-260]         [5-inf]         True  ",
      "text/html": "<div>\n<style scoped>\n    .dataframe tbody tr th:only-of-type {\n        vertical-align: middle;\n    }\n\n    .dataframe tbody tr th {\n        vertical-align: top;\n    }\n\n    .dataframe thead th {\n        text-align: right;\n    }\n</style>\n<table border=\"1\" class=\"dataframe\">\n  <thead>\n    <tr style=\"text-align: right;\">\n      <th></th>\n      <th>user_id</th>\n      <th>item_id</th>\n      <th>term</th>\n      <th>length_of_stay_bucket</th>\n      <th>rate_plan</th>\n      <th>room_segment</th>\n      <th>n_people_bucket</th>\n      <th>weekend_stay</th>\n    </tr>\n  </thead>\n  <tbody>\n    <tr>\n      <th>0</th>\n      <td>1</td>\n      <td>0</td>\n      <td>WinterVacation</td>\n      <td>[2-3]</td>\n      <td>Standard</td>\n      <td>[260-360]</td>\n      <td>[5-inf]</td>\n      <td>True</td>\n    </tr>\n    <tr>\n      <th>1</th>\n      <td>2</td>\n      <td>1</td>\n      <td>WinterVacation</td>\n      <td>[2-3]</td>\n      <td>Standard</td>\n      <td>[160-260]</td>\n      <td>[3-4]</td>\n      <td>True</td>\n    </tr>\n    <tr>\n      <th>2</th>\n      <td>3</td>\n      <td>2</td>\n      <td>WinterVacation</td>\n      <td>[2-3]</td>\n      <td>Standard</td>\n      <td>[160-260]</td>\n      <td>[2-2]</td>\n      <td>False</td>\n    </tr>\n    <tr>\n      <th>3</th>\n      <td>4</td>\n      <td>3</td>\n      <td>WinterVacation</td>\n      <td>[4-7]</td>\n      <td>Standard</td>\n      <td>[160-260]</td>\n      <td>[3-4]</td>\n      <td>True</td>\n    </tr>\n    <tr>\n      <th>4</th>\n      <td>5</td>\n      <td>4</td>\n      <td>WinterVacation</td>\n      <td>[4-7]</td>\n      <td>Standard</td>\n      <td>[0-160]</td>\n      <td>[2-2]</td>\n      <td>True</td>\n    </tr>\n    <tr>\n      <th>5</th>\n      <td>6</td>\n      <td>5</td>\n      <td>Easter</td>\n      <td>[4-7]</td>\n      <td>Standard</td>\n      <td>[260-360]</td>\n      <td>[5-inf]</td>\n      <td>True</td>\n    </tr>\n    <tr>\n      <th>6</th>\n      <td>7</td>\n      <td>6</td>\n      <td>OffSeason</td>\n      <td>[2-3]</td>\n      <td>Standard</td>\n      <td>[260-360]</td>\n      <td>[5-inf]</td>\n      <td>True</td>\n    </tr>\n    <tr>\n      <th>7</th>\n      <td>8</td>\n      <td>7</td>\n      <td>HighSeason</td>\n      <td>[2-3]</td>\n      <td>Standard</td>\n      <td>[160-260]</td>\n      <td>[1-1]</td>\n      <td>True</td>\n    </tr>\n    <tr>\n      <th>8</th>\n      <td>9</td>\n      <td>8</td>\n      <td>HighSeason</td>\n      <td>[2-3]</td>\n      <td>Standard</td>\n      <td>[0-160]</td>\n      <td>[1-1]</td>\n      <td>True</td>\n    </tr>\n    <tr>\n      <th>9</th>\n      <td>8</td>\n      <td>7</td>\n      <td>HighSeason</td>\n      <td>[2-3]</td>\n      <td>Standard</td>\n      <td>[160-260]</td>\n      <td>[1-1]</td>\n      <td>True</td>\n    </tr>\n    <tr>\n      <th>10</th>\n      <td>8</td>\n      <td>7</td>\n      <td>HighSeason</td>\n      <td>[2-3]</td>\n      <td>Standard</td>\n      <td>[160-260]</td>\n      <td>[1-1]</td>\n      <td>True</td>\n    </tr>\n    <tr>\n      <th>11</th>\n      <td>10</td>\n      <td>9</td>\n      <td>HighSeason</td>\n      <td>[2-3]</td>\n      <td>Standard</td>\n      <td>[160-260]</td>\n      <td>[3-4]</td>\n      <td>True</td>\n    </tr>\n    <tr>\n      <th>12</th>\n      <td>11</td>\n      <td>9</td>\n      <td>HighSeason</td>\n      <td>[2-3]</td>\n      <td>Standard</td>\n      <td>[160-260]</td>\n      <td>[3-4]</td>\n      <td>True</td>\n    </tr>\n    <tr>\n      <th>13</th>\n      <td>12</td>\n      <td>10</td>\n      <td>HighSeason</td>\n      <td>[8-inf]</td>\n      <td>Standard</td>\n      <td>[160-260]</td>\n      <td>[3-4]</td>\n      <td>True</td>\n    </tr>\n    <tr>\n      <th>14</th>\n      <td>15</td>\n      <td>11</td>\n      <td>LowSeason</td>\n      <td>[2-3]</td>\n      <td>Standard</td>\n      <td>[160-260]</td>\n      <td>[5-inf]</td>\n      <td>True</td>\n    </tr>\n  </tbody>\n</table>\n</div>"
     },
     "metadata": {},
     "output_type": "display_data"
    }
   ],
   "source": [
    "data_path = os.path.join(\"data\", \"hotel_data\")\n",
    "\n",
    "interactions_df = pd.read_csv(os.path.join(data_path, \"hotel_data_interactions_df.csv\"), index_col=0)\n",
    "\n",
    "base_item_features = ['term', 'length_of_stay_bucket', 'rate_plan', 'room_segment', 'n_people_bucket', 'weekend_stay']\n",
    "\n",
    "column_values_dict = {\n",
    "    'term': ['WinterVacation', 'Easter', 'OffSeason', 'HighSeason', 'LowSeason', 'MayLongWeekend', 'NewYear', 'Christmas'],\n",
    "    'length_of_stay_bucket': ['[0-1]', '[2-3]', '[4-7]', '[8-inf]'],\n",
    "    'rate_plan': ['Standard', 'Nonref'],\n",
    "    'room_segment': ['[0-160]', '[160-260]', '[260-360]', '[360-500]', '[500-900]'],\n",
    "    'n_people_bucket': ['[1-1]', '[2-2]', '[3-4]', '[5-inf]'],\n",
    "    'weekend_stay': ['True', 'False']\n",
    "}\n",
    "\n",
    "interactions_df['term'] = pd.Categorical(\n",
    "    interactions_df['term'], categories=column_values_dict['term'])\n",
    "interactions_df['length_of_stay_bucket'] = pd.Categorical(\n",
    "    interactions_df['length_of_stay_bucket'], categories=column_values_dict['length_of_stay_bucket'])\n",
    "interactions_df['rate_plan'] = pd.Categorical(\n",
    "    interactions_df['rate_plan'], categories=column_values_dict['rate_plan'])\n",
    "interactions_df['room_segment'] = pd.Categorical(\n",
    "    interactions_df['room_segment'], categories=column_values_dict['room_segment'])\n",
    "interactions_df['n_people_bucket'] = pd.Categorical(\n",
    "    interactions_df['n_people_bucket'], categories=column_values_dict['n_people_bucket'])\n",
    "interactions_df['weekend_stay'] = interactions_df['weekend_stay'].astype('str')\n",
    "interactions_df['weekend_stay'] = pd.Categorical(\n",
    "    interactions_df['weekend_stay'], categories=column_values_dict['weekend_stay'])\n",
    "\n",
    "display(interactions_df.head(15))"
   ]
  },
  {
   "cell_type": "markdown",
   "id": "realistic-third",
   "metadata": {},
   "source": [
    "# Define user features based on reservations\n",
    "\n",
    "The content-based recommenders will be forecasting the probability of interaction between user and item based on user features vector and item features vector:\n",
    "\n",
    "<center>\n",
    "$$\n",
    "    r_{u, i} = f(user\\_features, item\\_features)\n",
    "$$\n",
    "</center>\n",
    "\n",
    "<span style=\"color:red\"><font size=\"4\">**Task:**</font></span><br> \n",
    "Design numerical user features based on user reservations. Code the following method which for a given interactions DataFrame (it will be used in the fit method of the recommender) returns a DataFrame with user_id and user features as well as a list with names of user features (this will be important to select the right columns for an ML algorithm). Remember to name the columns differently than item features which you will create in the next task. Validate your features on users with several interactions (sample user ids are already given below).\n",
    "\n",
    "Ideas for user features:\n",
    "- Find the vector of most popular feature values from all user reservations and encode every feature with one-hot encoding.\n",
    "- For every reservation feature calculate the probability distribution of its values among all user's reservations.\n",
    "- For numerical buckets (length_of_stay, room_segment, n_people) you can calculate the average value for every user from their reservations (you will have to map the buckets back to numerical values before averaging them).\n",
    "\n",
    "Remember that you will have to select the best features (with the highest explanatory power). Using all above features at once would make the number of variables too large for this dataset and would also introduce too much correlations between features.\n",
    "\n",
    "You can also prepare several versions of the prepare_users_df method and test which works best in your recommender."
   ]
  },
  {
   "cell_type": "code",
   "execution_count": 12,
   "outputs": [],
   "source": [
    "one_hot_columns = ['term', 'length_of_stay_bucket', 'rate_plan', 'room_segment', 'n_people_bucket', 'weekend_stay']"
   ],
   "metadata": {
    "collapsed": false,
    "pycharm": {
     "name": "#%%\n"
    }
   }
  },
  {
   "cell_type": "code",
   "execution_count": 33,
   "outputs": [
    {
     "name": "stdout",
     "output_type": "stream",
     "text": [
      "5956.9531583900025\n",
      "5956.9531583900025\n",
      "['user_WinterVacation', 'user_Easter', 'user_OffSeason', 'user_HighSeason', 'user_LowSeason', 'user_MayLongWeekend', 'user_NewYear', 'user_Christmas', 'user_[0-1]', 'user_[2-3]', 'user_[4-7]', 'user_[8-inf]', 'user_Standard', 'user_Nonref', 'user_[0-160]', 'user_[160-260]', 'user_[260-360]', 'user_[360-500]', 'user_[500-900]', 'user_[1-1]', 'user_[2-2]', 'user_[3-4]', 'user_[5-inf]', 'user_True', 'user_False']\n"
     ]
    },
    {
     "data": {
      "text/plain": "      user_id  user_WinterVacation  user_Easter  user_OffSeason  \\\n0           1             0.090909          0.0        0.681818   \n40         50             0.043478          0.0        0.434783   \n84         96             0.090909          0.0        0.681818   \n102       115             0.000000          0.0        1.000000   \n371       706             0.095238          0.0        0.511905   \n1383     1736             0.034483          0.0        0.482759   \n7301     7779             0.000000          0.0        0.500000   \n\n      user_HighSeason  user_LowSeason  user_MayLongWeekend  user_NewYear  \\\n0            0.090909        0.136364             0.000000      0.000000   \n40           0.304348        0.217391             0.000000      0.000000   \n84           0.136364        0.045455             0.045455      0.000000   \n102          0.000000        0.000000             0.000000      0.000000   \n371          0.190476        0.142857             0.047619      0.011905   \n1383         0.206897        0.275862             0.000000      0.000000   \n7301         0.000000        0.500000             0.000000      0.000000   \n\n      user_Christmas  user_[0-1]  ...  user_[160-260]  user_[260-360]  \\\n0                0.0    0.000000  ...        0.863636        0.136364   \n40               0.0    0.000000  ...        0.565217        0.434783   \n84               0.0    0.272727  ...        0.863636        0.090909   \n102              0.0    0.000000  ...        0.500000        0.500000   \n371              0.0    0.297619  ...        0.857143        0.107143   \n1383             0.0    0.241379  ...        0.931034        0.068966   \n7301             0.0    0.000000  ...        1.000000        0.000000   \n\n      user_[360-500]  user_[500-900]  user_[1-1]  user_[2-2]  user_[3-4]  \\\n0                0.0             0.0    0.000000    0.727273    0.181818   \n40               0.0             0.0    0.000000    0.173913    0.521739   \n84               0.0             0.0    0.045455    0.272727    0.590909   \n102              0.0             0.0    0.500000    0.000000    0.000000   \n371              0.0             0.0    0.119048    0.154762    0.583333   \n1383             0.0             0.0    0.379310    0.413793    0.206897   \n7301             0.0             0.0    0.000000    0.000000    0.750000   \n\n      user_[5-inf]  user_True  user_False  \n0         0.090909   0.772727    0.227273  \n40        0.304348   0.782609    0.217391  \n84        0.090909   0.727273    0.272727  \n102       0.500000   0.000000    1.000000  \n371       0.130952   0.583333    0.416667  \n1383      0.000000   0.448276    0.551724  \n7301      0.250000   0.750000    0.250000  \n\n[7 rows x 26 columns]",
      "text/html": "<div>\n<style scoped>\n    .dataframe tbody tr th:only-of-type {\n        vertical-align: middle;\n    }\n\n    .dataframe tbody tr th {\n        vertical-align: top;\n    }\n\n    .dataframe thead th {\n        text-align: right;\n    }\n</style>\n<table border=\"1\" class=\"dataframe\">\n  <thead>\n    <tr style=\"text-align: right;\">\n      <th></th>\n      <th>user_id</th>\n      <th>user_WinterVacation</th>\n      <th>user_Easter</th>\n      <th>user_OffSeason</th>\n      <th>user_HighSeason</th>\n      <th>user_LowSeason</th>\n      <th>user_MayLongWeekend</th>\n      <th>user_NewYear</th>\n      <th>user_Christmas</th>\n      <th>user_[0-1]</th>\n      <th>...</th>\n      <th>user_[160-260]</th>\n      <th>user_[260-360]</th>\n      <th>user_[360-500]</th>\n      <th>user_[500-900]</th>\n      <th>user_[1-1]</th>\n      <th>user_[2-2]</th>\n      <th>user_[3-4]</th>\n      <th>user_[5-inf]</th>\n      <th>user_True</th>\n      <th>user_False</th>\n    </tr>\n  </thead>\n  <tbody>\n    <tr>\n      <th>0</th>\n      <td>1</td>\n      <td>0.090909</td>\n      <td>0.0</td>\n      <td>0.681818</td>\n      <td>0.090909</td>\n      <td>0.136364</td>\n      <td>0.000000</td>\n      <td>0.000000</td>\n      <td>0.0</td>\n      <td>0.000000</td>\n      <td>...</td>\n      <td>0.863636</td>\n      <td>0.136364</td>\n      <td>0.0</td>\n      <td>0.0</td>\n      <td>0.000000</td>\n      <td>0.727273</td>\n      <td>0.181818</td>\n      <td>0.090909</td>\n      <td>0.772727</td>\n      <td>0.227273</td>\n    </tr>\n    <tr>\n      <th>40</th>\n      <td>50</td>\n      <td>0.043478</td>\n      <td>0.0</td>\n      <td>0.434783</td>\n      <td>0.304348</td>\n      <td>0.217391</td>\n      <td>0.000000</td>\n      <td>0.000000</td>\n      <td>0.0</td>\n      <td>0.000000</td>\n      <td>...</td>\n      <td>0.565217</td>\n      <td>0.434783</td>\n      <td>0.0</td>\n      <td>0.0</td>\n      <td>0.000000</td>\n      <td>0.173913</td>\n      <td>0.521739</td>\n      <td>0.304348</td>\n      <td>0.782609</td>\n      <td>0.217391</td>\n    </tr>\n    <tr>\n      <th>84</th>\n      <td>96</td>\n      <td>0.090909</td>\n      <td>0.0</td>\n      <td>0.681818</td>\n      <td>0.136364</td>\n      <td>0.045455</td>\n      <td>0.045455</td>\n      <td>0.000000</td>\n      <td>0.0</td>\n      <td>0.272727</td>\n      <td>...</td>\n      <td>0.863636</td>\n      <td>0.090909</td>\n      <td>0.0</td>\n      <td>0.0</td>\n      <td>0.045455</td>\n      <td>0.272727</td>\n      <td>0.590909</td>\n      <td>0.090909</td>\n      <td>0.727273</td>\n      <td>0.272727</td>\n    </tr>\n    <tr>\n      <th>102</th>\n      <td>115</td>\n      <td>0.000000</td>\n      <td>0.0</td>\n      <td>1.000000</td>\n      <td>0.000000</td>\n      <td>0.000000</td>\n      <td>0.000000</td>\n      <td>0.000000</td>\n      <td>0.0</td>\n      <td>0.000000</td>\n      <td>...</td>\n      <td>0.500000</td>\n      <td>0.500000</td>\n      <td>0.0</td>\n      <td>0.0</td>\n      <td>0.500000</td>\n      <td>0.000000</td>\n      <td>0.000000</td>\n      <td>0.500000</td>\n      <td>0.000000</td>\n      <td>1.000000</td>\n    </tr>\n    <tr>\n      <th>371</th>\n      <td>706</td>\n      <td>0.095238</td>\n      <td>0.0</td>\n      <td>0.511905</td>\n      <td>0.190476</td>\n      <td>0.142857</td>\n      <td>0.047619</td>\n      <td>0.011905</td>\n      <td>0.0</td>\n      <td>0.297619</td>\n      <td>...</td>\n      <td>0.857143</td>\n      <td>0.107143</td>\n      <td>0.0</td>\n      <td>0.0</td>\n      <td>0.119048</td>\n      <td>0.154762</td>\n      <td>0.583333</td>\n      <td>0.130952</td>\n      <td>0.583333</td>\n      <td>0.416667</td>\n    </tr>\n    <tr>\n      <th>1383</th>\n      <td>1736</td>\n      <td>0.034483</td>\n      <td>0.0</td>\n      <td>0.482759</td>\n      <td>0.206897</td>\n      <td>0.275862</td>\n      <td>0.000000</td>\n      <td>0.000000</td>\n      <td>0.0</td>\n      <td>0.241379</td>\n      <td>...</td>\n      <td>0.931034</td>\n      <td>0.068966</td>\n      <td>0.0</td>\n      <td>0.0</td>\n      <td>0.379310</td>\n      <td>0.413793</td>\n      <td>0.206897</td>\n      <td>0.000000</td>\n      <td>0.448276</td>\n      <td>0.551724</td>\n    </tr>\n    <tr>\n      <th>7301</th>\n      <td>7779</td>\n      <td>0.000000</td>\n      <td>0.0</td>\n      <td>0.500000</td>\n      <td>0.000000</td>\n      <td>0.500000</td>\n      <td>0.000000</td>\n      <td>0.000000</td>\n      <td>0.0</td>\n      <td>0.000000</td>\n      <td>...</td>\n      <td>1.000000</td>\n      <td>0.000000</td>\n      <td>0.0</td>\n      <td>0.0</td>\n      <td>0.000000</td>\n      <td>0.000000</td>\n      <td>0.750000</td>\n      <td>0.250000</td>\n      <td>0.750000</td>\n      <td>0.250000</td>\n    </tr>\n  </tbody>\n</table>\n<p>7 rows × 26 columns</p>\n</div>"
     },
     "metadata": {},
     "output_type": "display_data"
    }
   ],
   "source": [
    "def prepare_users_df(interactions_df):\n",
    "\n",
    "    users_df = interactions_df.copy()\n",
    "    users_df = pd.get_dummies(data=users_df, columns=base_item_features, prefix='user')\n",
    "    users_df = users_df.drop(['item_id'], axis = 1)\n",
    "\n",
    "    user_features = users_df.columns.to_list()\n",
    "    user_features.pop(0)\n",
    "    users_df['val'] = 1\n",
    "    users_df = users_df.groupby(\"user_id\").sum().reset_index()\n",
    "\n",
    "    for feature in user_features:\n",
    "        users_df[feature] = users_df[feature] / users_df['val']\n",
    "    users_df = users_df.drop(['val'], axis = 1)\n",
    "\n",
    "    return users_df, user_features\n",
    "\n",
    "prepare_users_df(interactions_df)\n",
    "users_df, user_features = prepare_users_df(interactions_df)\n",
    "\n",
    "print(user_features)\n",
    "\n",
    "display(users_df.loc[users_df['user_id'].isin([706, 1736, 7779, 96, 1, 50, 115])].head(15))"
   ],
   "metadata": {
    "collapsed": false,
    "pycharm": {
     "name": "#%%\n"
    }
   }
  },
  {
   "cell_type": "markdown",
   "source": [
    "# Prepare numerical item features\n",
    "\n",
    "<span style=\"color:red\"><font size=\"4\">**Task:**</font></span><br>\n",
    "Code the prepare_items_df method which will be used in the recommender fit and recommend methods to map items to numerical features. This method should take the interactions_df DataFrame as input and return a DataFrame containing one record per item_id with item_id column and numerical item feature columns.\n",
    "\n",
    "You can try turning all item features into one-hot representations. You can use the get_dummies method from pandas. It will return the same columns on any dataset of interactions because the categorical variables with all possible values have been defined in the second cell in this notebook.\n",
    "\n",
    "You are welcome to design your own numerical item features, for instance based on numerical min and max values in buckets used as features."
   ],
   "metadata": {
    "collapsed": false
   }
  },
  {
   "cell_type": "code",
   "execution_count": 95,
   "id": "formal-munich",
   "metadata": {},
   "outputs": [
    {
     "name": "stdout",
     "output_type": "stream",
     "text": [
      "['item_WinterVacation', 'item_Easter', 'item_OffSeason', 'item_HighSeason', 'item_LowSeason', 'item_MayLongWeekend', 'item_NewYear', 'item_Christmas', 'item_[0-1]', 'item_[2-3]', 'item_[4-7]', 'item_[8-inf]', 'item_Standard', 'item_Nonref', 'item_[0-160]', 'item_[160-260]', 'item_[260-360]', 'item_[360-500]', 'item_[500-900]', 'item_[1-1]', 'item_[2-2]', 'item_[3-4]', 'item_[5-inf]', 'item_True', 'item_False']\n"
     ]
    },
    {
     "data": {
      "text/plain": "   item_id  item_WinterVacation  item_Easter  item_OffSeason  item_HighSeason  \\\n0        0             0.166667     0.000000        0.000000              0.0   \n1        1             0.166667     0.000000        0.000000              0.0   \n2        2             0.166667     0.000000        0.000000              0.0   \n3        3             0.166667     0.000000        0.000000              0.0   \n4        4             0.166667     0.000000        0.000000              0.0   \n5        5             0.000000     0.166667        0.000000              0.0   \n6        6             0.000000     0.000000        0.166667              0.0   \n\n   item_LowSeason  item_MayLongWeekend  item_NewYear  item_Christmas  \\\n0             0.0                  0.0           0.0             0.0   \n1             0.0                  0.0           0.0             0.0   \n2             0.0                  0.0           0.0             0.0   \n3             0.0                  0.0           0.0             0.0   \n4             0.0                  0.0           0.0             0.0   \n5             0.0                  0.0           0.0             0.0   \n6             0.0                  0.0           0.0             0.0   \n\n   item_[0-1]  ...  item_[160-260]  item_[260-360]  item_[360-500]  \\\n0         0.0  ...        0.000000        0.166667             0.0   \n1         0.0  ...        0.166667        0.000000             0.0   \n2         0.0  ...        0.166667        0.000000             0.0   \n3         0.0  ...        0.166667        0.000000             0.0   \n4         0.0  ...        0.000000        0.000000             0.0   \n5         0.0  ...        0.000000        0.166667             0.0   \n6         0.0  ...        0.000000        0.166667             0.0   \n\n   item_[500-900]  item_[1-1]  item_[2-2]  item_[3-4]  item_[5-inf]  \\\n0             0.0         0.0    0.000000    0.000000      0.166667   \n1             0.0         0.0    0.000000    0.166667      0.000000   \n2             0.0         0.0    0.166667    0.000000      0.000000   \n3             0.0         0.0    0.000000    0.166667      0.000000   \n4             0.0         0.0    0.166667    0.000000      0.000000   \n5             0.0         0.0    0.000000    0.000000      0.166667   \n6             0.0         0.0    0.000000    0.000000      0.166667   \n\n   item_True  item_False  \n0   0.166667    0.000000  \n1   0.166667    0.000000  \n2   0.000000    0.166667  \n3   0.166667    0.000000  \n4   0.166667    0.000000  \n5   0.166667    0.000000  \n6   0.166667    0.000000  \n\n[7 rows x 26 columns]",
      "text/html": "<div>\n<style scoped>\n    .dataframe tbody tr th:only-of-type {\n        vertical-align: middle;\n    }\n\n    .dataframe tbody tr th {\n        vertical-align: top;\n    }\n\n    .dataframe thead th {\n        text-align: right;\n    }\n</style>\n<table border=\"1\" class=\"dataframe\">\n  <thead>\n    <tr style=\"text-align: right;\">\n      <th></th>\n      <th>item_id</th>\n      <th>item_WinterVacation</th>\n      <th>item_Easter</th>\n      <th>item_OffSeason</th>\n      <th>item_HighSeason</th>\n      <th>item_LowSeason</th>\n      <th>item_MayLongWeekend</th>\n      <th>item_NewYear</th>\n      <th>item_Christmas</th>\n      <th>item_[0-1]</th>\n      <th>...</th>\n      <th>item_[160-260]</th>\n      <th>item_[260-360]</th>\n      <th>item_[360-500]</th>\n      <th>item_[500-900]</th>\n      <th>item_[1-1]</th>\n      <th>item_[2-2]</th>\n      <th>item_[3-4]</th>\n      <th>item_[5-inf]</th>\n      <th>item_True</th>\n      <th>item_False</th>\n    </tr>\n  </thead>\n  <tbody>\n    <tr>\n      <th>0</th>\n      <td>0</td>\n      <td>0.166667</td>\n      <td>0.000000</td>\n      <td>0.000000</td>\n      <td>0.0</td>\n      <td>0.0</td>\n      <td>0.0</td>\n      <td>0.0</td>\n      <td>0.0</td>\n      <td>0.0</td>\n      <td>...</td>\n      <td>0.000000</td>\n      <td>0.166667</td>\n      <td>0.0</td>\n      <td>0.0</td>\n      <td>0.0</td>\n      <td>0.000000</td>\n      <td>0.000000</td>\n      <td>0.166667</td>\n      <td>0.166667</td>\n      <td>0.000000</td>\n    </tr>\n    <tr>\n      <th>1</th>\n      <td>1</td>\n      <td>0.166667</td>\n      <td>0.000000</td>\n      <td>0.000000</td>\n      <td>0.0</td>\n      <td>0.0</td>\n      <td>0.0</td>\n      <td>0.0</td>\n      <td>0.0</td>\n      <td>0.0</td>\n      <td>...</td>\n      <td>0.166667</td>\n      <td>0.000000</td>\n      <td>0.0</td>\n      <td>0.0</td>\n      <td>0.0</td>\n      <td>0.000000</td>\n      <td>0.166667</td>\n      <td>0.000000</td>\n      <td>0.166667</td>\n      <td>0.000000</td>\n    </tr>\n    <tr>\n      <th>2</th>\n      <td>2</td>\n      <td>0.166667</td>\n      <td>0.000000</td>\n      <td>0.000000</td>\n      <td>0.0</td>\n      <td>0.0</td>\n      <td>0.0</td>\n      <td>0.0</td>\n      <td>0.0</td>\n      <td>0.0</td>\n      <td>...</td>\n      <td>0.166667</td>\n      <td>0.000000</td>\n      <td>0.0</td>\n      <td>0.0</td>\n      <td>0.0</td>\n      <td>0.166667</td>\n      <td>0.000000</td>\n      <td>0.000000</td>\n      <td>0.000000</td>\n      <td>0.166667</td>\n    </tr>\n    <tr>\n      <th>3</th>\n      <td>3</td>\n      <td>0.166667</td>\n      <td>0.000000</td>\n      <td>0.000000</td>\n      <td>0.0</td>\n      <td>0.0</td>\n      <td>0.0</td>\n      <td>0.0</td>\n      <td>0.0</td>\n      <td>0.0</td>\n      <td>...</td>\n      <td>0.166667</td>\n      <td>0.000000</td>\n      <td>0.0</td>\n      <td>0.0</td>\n      <td>0.0</td>\n      <td>0.000000</td>\n      <td>0.166667</td>\n      <td>0.000000</td>\n      <td>0.166667</td>\n      <td>0.000000</td>\n    </tr>\n    <tr>\n      <th>4</th>\n      <td>4</td>\n      <td>0.166667</td>\n      <td>0.000000</td>\n      <td>0.000000</td>\n      <td>0.0</td>\n      <td>0.0</td>\n      <td>0.0</td>\n      <td>0.0</td>\n      <td>0.0</td>\n      <td>0.0</td>\n      <td>...</td>\n      <td>0.000000</td>\n      <td>0.000000</td>\n      <td>0.0</td>\n      <td>0.0</td>\n      <td>0.0</td>\n      <td>0.166667</td>\n      <td>0.000000</td>\n      <td>0.000000</td>\n      <td>0.166667</td>\n      <td>0.000000</td>\n    </tr>\n    <tr>\n      <th>5</th>\n      <td>5</td>\n      <td>0.000000</td>\n      <td>0.166667</td>\n      <td>0.000000</td>\n      <td>0.0</td>\n      <td>0.0</td>\n      <td>0.0</td>\n      <td>0.0</td>\n      <td>0.0</td>\n      <td>0.0</td>\n      <td>...</td>\n      <td>0.000000</td>\n      <td>0.166667</td>\n      <td>0.0</td>\n      <td>0.0</td>\n      <td>0.0</td>\n      <td>0.000000</td>\n      <td>0.000000</td>\n      <td>0.166667</td>\n      <td>0.166667</td>\n      <td>0.000000</td>\n    </tr>\n    <tr>\n      <th>6</th>\n      <td>6</td>\n      <td>0.000000</td>\n      <td>0.000000</td>\n      <td>0.166667</td>\n      <td>0.0</td>\n      <td>0.0</td>\n      <td>0.0</td>\n      <td>0.0</td>\n      <td>0.0</td>\n      <td>0.0</td>\n      <td>...</td>\n      <td>0.000000</td>\n      <td>0.166667</td>\n      <td>0.0</td>\n      <td>0.0</td>\n      <td>0.0</td>\n      <td>0.000000</td>\n      <td>0.000000</td>\n      <td>0.166667</td>\n      <td>0.166667</td>\n      <td>0.000000</td>\n    </tr>\n  </tbody>\n</table>\n<p>7 rows × 26 columns</p>\n</div>"
     },
     "metadata": {},
     "output_type": "display_data"
    }
   ],
   "source": [
    "def prepare_items_df(interactions_df):\n",
    "    items_df = interactions_df.copy()\n",
    "    items_df = pd.get_dummies(data=items_df, columns=base_item_features, prefix='item')\n",
    "    items_df = items_df.drop(['user_id'], axis = 1)\n",
    "    item_features = items_df.columns.to_list()\n",
    "    item_features.pop(0)\n",
    "\n",
    "    items_df = items_df.groupby(['item_id']).sum()\n",
    "    # for feature in item_features:\n",
    "    #     items_df[feature] = items_df[feature] / items_df.sum(axis=1)\n",
    "\n",
    "    items_df = items_df / items_df.sum(axis=1).values.reshape(-1, 1)\n",
    "    items_df = items_df.rename_axis(None, axis=1).fillna(0).reset_index()\n",
    "\n",
    "    return items_df, item_features\n",
    "\n",
    "prepare_items_df(interactions_df)\n",
    "items_df, item_features = prepare_items_df(interactions_df)\n",
    "\n",
    "print(item_features)\n",
    "\n",
    "display(items_df.loc[items_df['item_id'].isin([0, 1, 2, 3, 4, 5, 6])].head(15))"
   ]
  },
  {
   "cell_type": "markdown",
   "id": "figured-imaging",
   "metadata": {},
   "source": [
    "# Content-based recommender\n",
    "\n",
    "<span style=\"color:red\"><font size=\"4\">**Task:**</font></span><br> \n",
    "Code the content-based recommender. User features should be calculated within the fit method based on available training data and should be saved in the object as self.users_df for later use in the recommend method. Item features should be calculated both in the fit method (from interactions_df) and in the recommend method (from items_df - the items to be evaluated).\n",
    "\n",
    "In the fit method you have to randomly generate non-existing interactions and add them to the training data for the regressor. You should add the target variable to interactions - equal to 1 for real (\"positive\") interactions and equal to 0 for those newly added \"negative\" interactions. Generate several negative interactions per every positive interaction (n_neg_per_pos). Treat the proportion as a tunable parameter of the model.\n",
    "\n",
    "Remember to keep control over randomness - in the init method add seed as a parameter and initialize the random seed generator with that seed:\n",
    "\n",
    "```python\n",
    "self.seed = seed\n",
    "self.rng = np.random.RandomState(seed=seed)\n",
    "```\n",
    "\n",
    "Below the base content-based recommender class there are several classes which inherit from the base class and use different ML models:\n",
    "  - LinearRegressionCBUIRecommender - based on linear regression,\n",
    "  - SVRCBUIRecommender - based on Support Vector Regressor (if you want to test it, sample the data in the fit method, as the training can take many hours on the entire dataset of interactions),\n",
    "  - RandomForestCBUIRecommender - based on Random Forest,\n",
    "  - XGBoostCBUIRecommender - based on XGBoost.\n",
    "  \n",
    "There is no need to change anything in those inheriting classes, although you can experiment with other tunable parameters of the underlying models.\n",
    "\n",
    "You are encouraged to experiment with:\n",
    "  - Other numerical user and item features (but always train and evaluate the model on buckets defined in the first notebook).\n",
    "  - Other ML models, e.g. Huber regression, Lasso regression, Ridge regression, LARS regression, Linear SVR, Decision Tree, Naive Bayes, LightGBM, Neural Networks or any model of your choice."
   ]
  },
  {
   "cell_type": "code",
   "execution_count": 15,
   "id": "unlike-recipient",
   "metadata": {},
   "outputs": [],
   "source": [
    "from sklearn.linear_model import LinearRegression\n",
    "from sklearn.svm import SVR\n",
    "from sklearn.ensemble import RandomForestRegressor\n",
    "from sklearn.ensemble import GradientBoostingRegressor\n",
    "\n",
    "from recommenders.recommender import Recommender\n",
    "\n",
    "\n",
    "class ContentBasedUserItemRecommender(Recommender):\n",
    "    \"\"\"\n",
    "    Linear recommender class based on user and item features.\n",
    "    \"\"\"\n",
    "    \n",
    "    def __init__(self, seed=6789, n_neg_per_pos=5):\n",
    "        \"\"\"\n",
    "        Initialize base recommender params and variables.\n",
    "        \"\"\"\n",
    "        self.model = LinearRegression()\n",
    "        self.n_neg_per_pos = n_neg_per_pos\n",
    "        \n",
    "        self.recommender_df = pd.DataFrame(columns=['user_id', 'item_id', 'score'])\n",
    "        self.users_df = None\n",
    "        self.user_features = None\n",
    "        \n",
    "        self.seed = seed\n",
    "        self.rng = np.random.RandomState(seed=seed)\n",
    "    \n",
    "    def fit(self, interactions_df, users_df, items_df):\n",
    "        \"\"\"\n",
    "        Training of the recommender.\n",
    "        \n",
    "        :param pd.DataFrame interactions_df: DataFrame with recorded interactions between users and items \n",
    "            defined by user_id, item_id and features of the interaction.\n",
    "        :param pd.DataFrame users_df: DataFrame with users and their features defined by user_id and the user feature columns.\n",
    "        :param pd.DataFrame items_df: DataFrame with items and their features defined by item_id and the item feature columns.\n",
    "        \"\"\"\n",
    "        \n",
    "        interactions_df = interactions_df.copy()\n",
    "        \n",
    "        # Prepare users_df and items_df\n",
    "        \n",
    "        users_df, user_features = prepare_users_df(interactions_df)\n",
    "        \n",
    "        self.users_df = users_df\n",
    "        self.user_features = user_features\n",
    "        \n",
    "        items_df, item_features = prepare_items_df(interactions_df)\n",
    "        items_df = items_df.loc[:, ['item_id'] + item_features]\n",
    "        \n",
    "        # Generate negative interactions\n",
    "        \n",
    "        interactions_df = interactions_df.loc[:, ['user_id', 'item_id']]\n",
    "        \n",
    "        interactions_df.loc[:, 'interacted'] = 1\n",
    "        \n",
    "        negative_interactions = []\n",
    "\n",
    "        users = users_df['user_id'].values\n",
    "        items = items_df['item_id'].values\n",
    "        \n",
    "        ########################\n",
    "        # Write your code here #\n",
    "        # Generate tuples (user_id, item_id, 0) for pairs (user_id, item_id) which do not\n",
    "        # appear in the interactions_df and add those tuples to the list negative_interactions.\n",
    "        # Generate self.n_neg_per_pos * len(interactions_df) negative interactions \n",
    "        # (self.n_neg_per_pos per one positive).\n",
    "        # Make sure the code is efficient and runs fast, otherwise you will not be able to properly tune your model.\n",
    "        negative_interactions_len = self.n_neg_per_pos * len(interactions_df)\n",
    "        i = 0\n",
    "\n",
    "        while i < negative_interactions_len:\n",
    "            user = self.rng.choice(users)\n",
    "            item = self.rng.choice(items)\n",
    "            single_interaction = interactions_df.loc[(interactions_df['user_id'] == user) & (interactions_df['item_id'] == item)]\n",
    "            if single_interaction.empty:\n",
    "                negative_interactions.append((user, item, 0))\n",
    "                i += 1\n",
    "        \n",
    "        interactions_df = pd.concat(\n",
    "            [interactions_df, pd.DataFrame(negative_interactions, columns=['user_id', 'item_id', 'interacted'])])\n",
    "        \n",
    "        # Get the input data for the model\n",
    "        \n",
    "        interactions_df = pd.merge(interactions_df, users_df, on=['user_id'])\n",
    "        interactions_df = pd.merge(interactions_df, items_df, on=['item_id'])\n",
    "        \n",
    "        x = interactions_df.loc[:, user_features + item_features].values\n",
    "        y = interactions_df['interacted'].values\n",
    "    \n",
    "        self.model.fit(x, y)\n",
    "    \n",
    "    def recommend(self, users_df, items_df, n_recommendations=1):\n",
    "        \"\"\"\n",
    "        Serving of recommendations. Scores items in items_df for each user in users_df and returns \n",
    "        top n_recommendations for each user.\n",
    "        \n",
    "        :param pd.DataFrame users_df: DataFrame with users and their features for which recommendations should be generated.\n",
    "        :param pd.DataFrame items_df: DataFrame with items and their features which should be scored.\n",
    "        :param int n_recommendations: Number of recommendations to be returned for each user.\n",
    "        :return: DataFrame with user_id, item_id and score as columns returning n_recommendations top recommendations \n",
    "            for each user.\n",
    "        :rtype: pd.DataFrame\n",
    "        \"\"\"\n",
    "        \n",
    "        # Clean previous recommendations (iloc could be used alternatively)\n",
    "        self.recommender_df = self.recommender_df[:0]\n",
    "        \n",
    "        ########################\n",
    "        # Write your code here #\n",
    "        # Prepare users_df and items_df\n",
    "        # For users_df you need to merge user features from self.users_df to users_df \n",
    "        # (the users for which you generate recommendations).\n",
    "        # Note that for users who were not in the hotel before (which is true for most users)\n",
    "        # there will be no features in self.users_df. For such users you can initialize their features\n",
    "        # with all zeros (for instance with fillna(0)), but you can also try to use average feature\n",
    "        # values from self.users_df (this way you would trear a new user as an average user).\n",
    "        # For items you have to apply the prepare_items_df method to items_df.\n",
    "        users_df = users_df.merge(self.users_df, on=\"user_id\", how=\"left\")\n",
    "        users_df = users_df.fillna(0)\n",
    "\n",
    "        items_df, items_features = prepare_items_df(items_df)\n",
    "        # Score the items\n",
    "    \n",
    "        recommendations = pd.DataFrame(columns=['user_id', 'item_id', 'score'])\n",
    "        \n",
    "        for ix, user in users_df.iterrows():\n",
    "            \n",
    "            ########################\n",
    "            # Write your code here #\n",
    "            # Create a Carthesian product of users from users_df and items from items_df\n",
    "            cartesian_product = users_df.loc[(users_df['user_id'] == user['user_id']), self.user_features].merge(items_df[items_features], how='cross')\n",
    "\n",
    "            ########################\n",
    "            # Write your code here #\n",
    "            # Use self.model.predict method to calculate scores for all records in the just created DataFrame\n",
    "            # of users and items\n",
    "            scores = self.model.predict(cartesian_product)\n",
    "            \n",
    "            ########################\n",
    "            # Write your code here #\n",
    "            # Obtain item ids with the highest score and save those ids under the chosen_ids variable\n",
    "            # Do not exclude already booked items.\n",
    "            chosen_ids =  np.argsort(-scores)[:n_recommendations]\n",
    "            \n",
    "            recommendations = []\n",
    "            for item_id in chosen_ids:\n",
    "                recommendations.append(\n",
    "                    {\n",
    "                        'user_id': user['user_id'],\n",
    "                        'item_id': item_id,\n",
    "                        'score': scores[item_id]\n",
    "                    }\n",
    "                )\n",
    "            \n",
    "            user_recommendations = pd.DataFrame(recommendations)\n",
    "\n",
    "            self.recommender_df = pd.concat([self.recommender_df, user_recommendations])\n",
    "\n",
    "        return self.recommender_df\n",
    "    \n",
    "    \n",
    "class LinearRegressionCBUIRecommender(ContentBasedUserItemRecommender):\n",
    "    \"\"\"\n",
    "    Linear regression recommender class based on user and item features.\n",
    "    \"\"\"\n",
    "    \n",
    "    def __init__(self, seed=6789, n_neg_per_pos=5, **model_params):\n",
    "        \"\"\"\n",
    "        Initialize base recommender params and variables.\n",
    "        \"\"\"\n",
    "        super().__init__(seed=seed, n_neg_per_pos=n_neg_per_pos)\n",
    "        self.model = LinearRegression()\n",
    "        \n",
    "        \n",
    "class SVRCBUIRecommender(ContentBasedUserItemRecommender):\n",
    "    \"\"\"\n",
    "    SVR recommender class based on user and item features.\n",
    "    \"\"\"\n",
    "    \n",
    "    def __init__(self, seed=6789, n_neg_per_pos=5, **model_params):\n",
    "        \"\"\"\n",
    "        Initialize base recommender params and variables.\n",
    "        \"\"\"\n",
    "        super().__init__(seed=seed, n_neg_per_pos=n_neg_per_pos)\n",
    "        if 'kernel' in model_params:\n",
    "            self.kernel = model_params['kernel']\n",
    "        else:\n",
    "            self.kernel = 'rbf'\n",
    "        if 'C' in model_params:\n",
    "            self.C = model_params['C']\n",
    "        else:\n",
    "            self.C = 1.0\n",
    "        if 'epsilon' in model_params:\n",
    "            self.epsilon = model_params['epsilon']\n",
    "        else:\n",
    "            self.epsilon = 0.1\n",
    "        self.model = SVR(kernel=self.kernel, C=self.C, epsilon=self.epsilon)\n",
    "        \n",
    "    \n",
    "class RandomForestCBUIRecommender(ContentBasedUserItemRecommender):\n",
    "    \"\"\"\n",
    "    Random forest recommender class based on user and item features.\n",
    "    \"\"\"\n",
    "    \n",
    "    def __init__(self, seed=6789, n_neg_per_pos=5, **model_params):\n",
    "        \"\"\"\n",
    "        Initialize base recommender params and variables.\n",
    "        \"\"\"\n",
    "        super().__init__(seed=seed, n_neg_per_pos=n_neg_per_pos)\n",
    "        if 'n_estimators' in model_params:\n",
    "            self.n_estimators = int(model_params['n_estimators'])\n",
    "        else:\n",
    "            self.n_estimators = 100\n",
    "        if 'max_depth' in model_params:\n",
    "            self.max_depth = int(model_params['max_depth'])\n",
    "        else:\n",
    "            self.max_depth = 30\n",
    "        if 'min_samples_split' in model_params:\n",
    "            self.min_samples_split = int(model_params['min_samples_split'])\n",
    "        else:\n",
    "            self.min_samples_split = 30\n",
    "        self.model = RandomForestRegressor(\n",
    "            n_estimators=self.n_estimators, max_depth=self.max_depth, min_samples_split=self.min_samples_split)\n",
    "    \n",
    "    \n",
    "class XGBoostCBUIRecommender(ContentBasedUserItemRecommender):\n",
    "    \"\"\"\n",
    "    XGBoost recommender class based on user and item features.\n",
    "    \"\"\"\n",
    "    \n",
    "    def __init__(self, seed=6789, n_neg_per_pos=5, **model_params):\n",
    "        \"\"\"\n",
    "        Initialize base recommender params and variables.\n",
    "        \"\"\"\n",
    "        super().__init__(seed=seed, n_neg_per_pos=n_neg_per_pos)\n",
    "        if 'n_estimators' in model_params:\n",
    "            self.n_estimators = int(model_params['n_estimators'])\n",
    "        else:\n",
    "            self.n_estimators = 100\n",
    "        if 'max_depth' in model_params:\n",
    "            self.max_depth = int(model_params['max_depth'])\n",
    "        else:\n",
    "            self.max_depth = 30\n",
    "        if 'min_samples_split' in model_params:\n",
    "            self.min_samples_split = int(model_params['min_samples_split'])\n",
    "        else:\n",
    "            self.min_samples_split = 30\n",
    "        if 'learning_rate' in model_params:\n",
    "            self.learning_rate = model_params['learning_rate']\n",
    "        else:\n",
    "            self.learning_rate = 30\n",
    "        self.model = GradientBoostingRegressor(\n",
    "            n_estimators=self.n_estimators, max_depth=self.max_depth, min_samples_split=self.min_samples_split,\n",
    "            learning_rate=self.learning_rate)    "
   ]
  },
  {
   "cell_type": "markdown",
   "id": "copyrighted-relative",
   "metadata": {},
   "source": [
    "# Quick test of the recommender"
   ]
  },
  {
   "cell_type": "code",
   "execution_count": 96,
   "id": "greatest-canon",
   "metadata": {},
   "outputs": [],
   "source": [
    "items_df = interactions_df.loc[:, ['user_id', 'item_id'] + base_item_features].drop_duplicates()"
   ]
  },
  {
   "cell_type": "code",
   "execution_count": 97,
   "id": "initial-capital",
   "metadata": {},
   "outputs": [
    {
     "name": "stdout",
     "output_type": "stream",
     "text": [
      "5956.9531583900025\n"
     ]
    }
   ],
   "source": [
    "# Fit method\n",
    "cb_user_item_recommender = LinearRegressionCBUIRecommender()\n",
    "cb_user_item_recommender.fit(interactions_df, None, None)"
   ]
  },
  {
   "cell_type": "code",
   "execution_count": 98,
   "id": "digital-consolidation",
   "metadata": {
    "scrolled": false
   },
   "outputs": [
    {
     "data": {
      "text/plain": "       user_id_x item_id     score  user_id_y        term  \\\n0            1.0      51  0.593872        477   OffSeason   \n1            1.0      51  0.593872        482   OffSeason   \n2            1.0      51  0.593872        502   OffSeason   \n3            1.0      51  0.593872        521   OffSeason   \n4            1.0      51  0.593872        523   OffSeason   \n...          ...     ...       ...        ...         ...   \n15930        5.0       9  0.567627      13990  HighSeason   \n15931        5.0       9  0.567627      13993  HighSeason   \n15932        5.0       9  0.567627      14000  HighSeason   \n15933        5.0       9  0.567627       2123  HighSeason   \n15934        5.0       9  0.567627       2794  HighSeason   \n\n      length_of_stay_bucket rate_plan room_segment n_people_bucket  \\\n0                     [2-3]    Nonref    [160-260]           [3-4]   \n1                     [2-3]    Nonref    [160-260]           [3-4]   \n2                     [2-3]    Nonref    [160-260]           [3-4]   \n3                     [2-3]    Nonref    [160-260]           [3-4]   \n4                     [2-3]    Nonref    [160-260]           [3-4]   \n...                     ...       ...          ...             ...   \n15930                 [2-3]  Standard    [160-260]           [3-4]   \n15931                 [2-3]  Standard    [160-260]           [3-4]   \n15932                 [2-3]  Standard    [160-260]           [3-4]   \n15933                 [2-3]  Standard    [160-260]           [3-4]   \n15934                 [2-3]  Standard    [160-260]           [3-4]   \n\n      weekend_stay  \n0             True  \n1             True  \n2             True  \n3             True  \n4             True  \n...            ...  \n15930         True  \n15931         True  \n15932         True  \n15933         True  \n15934         True  \n\n[15935 rows x 10 columns]",
      "text/html": "<div>\n<style scoped>\n    .dataframe tbody tr th:only-of-type {\n        vertical-align: middle;\n    }\n\n    .dataframe tbody tr th {\n        vertical-align: top;\n    }\n\n    .dataframe thead th {\n        text-align: right;\n    }\n</style>\n<table border=\"1\" class=\"dataframe\">\n  <thead>\n    <tr style=\"text-align: right;\">\n      <th></th>\n      <th>user_id_x</th>\n      <th>item_id</th>\n      <th>score</th>\n      <th>user_id_y</th>\n      <th>term</th>\n      <th>length_of_stay_bucket</th>\n      <th>rate_plan</th>\n      <th>room_segment</th>\n      <th>n_people_bucket</th>\n      <th>weekend_stay</th>\n    </tr>\n  </thead>\n  <tbody>\n    <tr>\n      <th>0</th>\n      <td>1.0</td>\n      <td>51</td>\n      <td>0.593872</td>\n      <td>477</td>\n      <td>OffSeason</td>\n      <td>[2-3]</td>\n      <td>Nonref</td>\n      <td>[160-260]</td>\n      <td>[3-4]</td>\n      <td>True</td>\n    </tr>\n    <tr>\n      <th>1</th>\n      <td>1.0</td>\n      <td>51</td>\n      <td>0.593872</td>\n      <td>482</td>\n      <td>OffSeason</td>\n      <td>[2-3]</td>\n      <td>Nonref</td>\n      <td>[160-260]</td>\n      <td>[3-4]</td>\n      <td>True</td>\n    </tr>\n    <tr>\n      <th>2</th>\n      <td>1.0</td>\n      <td>51</td>\n      <td>0.593872</td>\n      <td>502</td>\n      <td>OffSeason</td>\n      <td>[2-3]</td>\n      <td>Nonref</td>\n      <td>[160-260]</td>\n      <td>[3-4]</td>\n      <td>True</td>\n    </tr>\n    <tr>\n      <th>3</th>\n      <td>1.0</td>\n      <td>51</td>\n      <td>0.593872</td>\n      <td>521</td>\n      <td>OffSeason</td>\n      <td>[2-3]</td>\n      <td>Nonref</td>\n      <td>[160-260]</td>\n      <td>[3-4]</td>\n      <td>True</td>\n    </tr>\n    <tr>\n      <th>4</th>\n      <td>1.0</td>\n      <td>51</td>\n      <td>0.593872</td>\n      <td>523</td>\n      <td>OffSeason</td>\n      <td>[2-3]</td>\n      <td>Nonref</td>\n      <td>[160-260]</td>\n      <td>[3-4]</td>\n      <td>True</td>\n    </tr>\n    <tr>\n      <th>...</th>\n      <td>...</td>\n      <td>...</td>\n      <td>...</td>\n      <td>...</td>\n      <td>...</td>\n      <td>...</td>\n      <td>...</td>\n      <td>...</td>\n      <td>...</td>\n      <td>...</td>\n    </tr>\n    <tr>\n      <th>15930</th>\n      <td>5.0</td>\n      <td>9</td>\n      <td>0.567627</td>\n      <td>13990</td>\n      <td>HighSeason</td>\n      <td>[2-3]</td>\n      <td>Standard</td>\n      <td>[160-260]</td>\n      <td>[3-4]</td>\n      <td>True</td>\n    </tr>\n    <tr>\n      <th>15931</th>\n      <td>5.0</td>\n      <td>9</td>\n      <td>0.567627</td>\n      <td>13993</td>\n      <td>HighSeason</td>\n      <td>[2-3]</td>\n      <td>Standard</td>\n      <td>[160-260]</td>\n      <td>[3-4]</td>\n      <td>True</td>\n    </tr>\n    <tr>\n      <th>15932</th>\n      <td>5.0</td>\n      <td>9</td>\n      <td>0.567627</td>\n      <td>14000</td>\n      <td>HighSeason</td>\n      <td>[2-3]</td>\n      <td>Standard</td>\n      <td>[160-260]</td>\n      <td>[3-4]</td>\n      <td>True</td>\n    </tr>\n    <tr>\n      <th>15933</th>\n      <td>5.0</td>\n      <td>9</td>\n      <td>0.567627</td>\n      <td>2123</td>\n      <td>HighSeason</td>\n      <td>[2-3]</td>\n      <td>Standard</td>\n      <td>[160-260]</td>\n      <td>[3-4]</td>\n      <td>True</td>\n    </tr>\n    <tr>\n      <th>15934</th>\n      <td>5.0</td>\n      <td>9</td>\n      <td>0.567627</td>\n      <td>2794</td>\n      <td>HighSeason</td>\n      <td>[2-3]</td>\n      <td>Standard</td>\n      <td>[160-260]</td>\n      <td>[3-4]</td>\n      <td>True</td>\n    </tr>\n  </tbody>\n</table>\n<p>15935 rows × 10 columns</p>\n</div>"
     },
     "metadata": {},
     "output_type": "display_data"
    }
   ],
   "source": [
    "# Recommender method\n",
    "\n",
    "recommendations = cb_user_item_recommender.recommend(pd.DataFrame([[1], [2], [3], [4], [5]], columns=['user_id']), interactions_df, 10)\n",
    "\n",
    "recommendations = pd.merge(recommendations, items_df, on='item_id', how='left')\n",
    "display(recommendations)"
   ]
  },
  {
   "cell_type": "markdown",
   "id": "advanced-eleven",
   "metadata": {},
   "source": [
    "# Tuning method"
   ]
  },
  {
   "cell_type": "code",
   "execution_count": 25,
   "id": "strange-alaska",
   "metadata": {},
   "outputs": [],
   "source": [
    "from evaluation_and_testing.testing import evaluate_train_test_split_implicit\n",
    "\n",
    "seed = 6789"
   ]
  },
  {
   "cell_type": "code",
   "execution_count": 26,
   "id": "stable-theta",
   "metadata": {},
   "outputs": [],
   "source": [
    "from hyperopt import hp, fmin, tpe, Trials\n",
    "import traceback\n",
    "\n",
    "def tune_recommender(recommender_class, interactions_df, items_df, \n",
    "                     param_space, max_evals=1, show_progressbar=True, seed=6789):\n",
    "    # Split into train_validation and test sets\n",
    "\n",
    "    shuffle = np.arange(len(interactions_df))\n",
    "    rng = np.random.RandomState(seed=seed)\n",
    "    rng.shuffle(shuffle)\n",
    "    shuffle = list(shuffle)\n",
    "\n",
    "    train_test_split = 0.8\n",
    "    split_index = int(len(interactions_df) * train_test_split)\n",
    "\n",
    "    train_validation = interactions_df.iloc[shuffle[:split_index]]\n",
    "    test = interactions_df.iloc[shuffle[split_index:]]\n",
    "\n",
    "    # Tune\n",
    "\n",
    "    def loss(tuned_params):\n",
    "        recommender = recommender_class(seed=seed, **tuned_params)\n",
    "        hr1, hr3, hr5, hr10, ndcg1, ndcg3, ndcg5, ndcg10 = evaluate_train_test_split_implicit(\n",
    "            recommender, train_validation, items_df, seed=seed)\n",
    "        return -hr10\n",
    "\n",
    "    n_tries = 1\n",
    "    succeded = False\n",
    "    try_id = 0\n",
    "    while not succeded and try_id < n_tries:\n",
    "        try:\n",
    "            trials = Trials()\n",
    "            best_param_set = fmin(loss, space=param_space, algo=tpe.suggest, \n",
    "                                  max_evals=max_evals, show_progressbar=show_progressbar, trials=trials, verbose=True)\n",
    "            succeded = True\n",
    "        except:\n",
    "            traceback.print_exc()\n",
    "            try_id += 1\n",
    "            \n",
    "    if not succeded:\n",
    "        return None\n",
    "        \n",
    "    # Validate\n",
    "    \n",
    "    recommender = recommender_class(seed=seed, **best_param_set)\n",
    "\n",
    "    results = [[recommender_class.__name__] + list(evaluate_train_test_split_implicit(\n",
    "        recommender, {'train': train_validation, 'test': test}, items_df, seed=seed))]\n",
    "\n",
    "    results = pd.DataFrame(results, \n",
    "                           columns=['Recommender', 'HR@1', 'HR@3', 'HR@5', 'HR@10', 'NDCG@1', 'NDCG@3', 'NDCG@5', 'NDCG@10'])\n",
    "\n",
    "    display(results)\n",
    "    \n",
    "    return best_param_set"
   ]
  },
  {
   "cell_type": "markdown",
   "id": "spiritual-orbit",
   "metadata": {},
   "source": [
    "## Tuning of the recommender\n",
    "\n",
    "<span style=\"color:red\"><font size=\"4\">**Task:**</font></span><br> \n",
    "Tune your models using the code below. You only need to put the class name of your recommender and choose an appropriate parameter space."
   ]
  },
  {
   "cell_type": "code",
   "execution_count": 30,
   "id": "dependent-capital",
   "metadata": {},
   "outputs": [
    {
     "name": "stdout",
     "output_type": "stream",
     "text": [
      "100%|██████████| 10/10 [18:19<00:00, 109.90s/trial, best loss: -0.2302158273381295]\n"
     ]
    },
    {
     "data": {
      "text/plain": "                       Recommender      HR@1      HR@3      HR@5     HR@10  \\\n0  LinearRegressionCBUIRecommender  0.049219  0.130007  0.175492  0.243381   \n\n     NDCG@1    NDCG@3    NDCG@5   NDCG@10  \n0  0.049219  0.094502  0.113541  0.135065  ",
      "text/html": "<div>\n<style scoped>\n    .dataframe tbody tr th:only-of-type {\n        vertical-align: middle;\n    }\n\n    .dataframe tbody tr th {\n        vertical-align: top;\n    }\n\n    .dataframe thead th {\n        text-align: right;\n    }\n</style>\n<table border=\"1\" class=\"dataframe\">\n  <thead>\n    <tr style=\"text-align: right;\">\n      <th></th>\n      <th>Recommender</th>\n      <th>HR@1</th>\n      <th>HR@3</th>\n      <th>HR@5</th>\n      <th>HR@10</th>\n      <th>NDCG@1</th>\n      <th>NDCG@3</th>\n      <th>NDCG@5</th>\n      <th>NDCG@10</th>\n    </tr>\n  </thead>\n  <tbody>\n    <tr>\n      <th>0</th>\n      <td>LinearRegressionCBUIRecommender</td>\n      <td>0.049219</td>\n      <td>0.130007</td>\n      <td>0.175492</td>\n      <td>0.243381</td>\n      <td>0.049219</td>\n      <td>0.094502</td>\n      <td>0.113541</td>\n      <td>0.135065</td>\n    </tr>\n  </tbody>\n</table>\n</div>"
     },
     "metadata": {},
     "output_type": "display_data"
    },
    {
     "name": "stdout",
     "output_type": "stream",
     "text": [
      "Best parameters:\n",
      "{'n_neg_per_pos': 1.0}\n"
     ]
    }
   ],
   "source": [
    "param_space = {\n",
    "    'n_neg_per_pos': hp.quniform('n_neg_per_pos', 1, 10, 1)\n",
    "}\n",
    "\n",
    "# param_space = {\n",
    "#     'n_neg_per_pos': 2\n",
    "# }\n",
    "\n",
    "best_param_set = tune_recommender(LinearRegressionCBUIRecommender, interactions_df, items_df,\n",
    "                                  param_space, max_evals=10, show_progressbar=True, seed=seed)\n",
    "\n",
    "print(\"Best parameters:\")\n",
    "print(best_param_set)"
   ]
  },
  {
   "cell_type": "code",
   "execution_count": null,
   "id": "palestinian-clearance",
   "metadata": {
    "pycharm": {
     "is_executing": true
    }
   },
   "outputs": [
    {
     "name": "stdout",
     "output_type": "stream",
     "text": [
      "  0%|          | 0/100 [00:00<?, ?trial/s, best loss=?]"
     ]
    }
   ],
   "source": [
    "# - po dwoch godzinach się nic nie zrobiło - nie opłaca sie robic\n",
    "param_space = {\n",
    "    'n_neg_per_pos': hp.quniform('n_neg_per_pos', 1, 10, 1),\n",
    "    'C': hp.loguniform('C', np.log(0.01), np.log(100.0))\n",
    "}\n",
    "\n",
    "best_param_set = tune_recommender(SVRCBUIRecommender, interactions_df, items_df,\n",
    "                                  param_space, max_evals=100, show_progressbar=True, seed=seed)\n",
    "\n",
    "print(\"Best parameters:\")\n",
    "print(best_param_set)"
   ]
  },
  {
   "cell_type": "code",
   "execution_count": null,
   "id": "seasonal-header",
   "metadata": {
    "pycharm": {
     "is_executing": true
    }
   },
   "outputs": [],
   "source": [
    "param_space = {\n",
    "    'n_neg_per_pos': hp.quniform('n_neg_per_pos', 1, 10, 1),\n",
    "    'n_estimators': hp.quniform('n_estimators', 30, 300, 1),\n",
    "    'max_depth': hp.quniform('max_depth', 2, 10, 1),\n",
    "    'min_samples_split': hp.quniform('min_samples_split', 2, 30, 1)\n",
    "}\n",
    "\n",
    "best_param_set = tune_recommender(RandomForestCBUIRecommender, interactions_df, items_df,\n",
    "                                  param_space, max_evals=100, show_progressbar=True, seed=seed)\n",
    "\n",
    "print(\"Best parameters:\")\n",
    "print(best_param_set)"
   ]
  },
  {
   "cell_type": "code",
   "execution_count": 27,
   "id": "moved-gothic",
   "metadata": {},
   "outputs": [
    {
     "name": "stdout",
     "output_type": "stream",
     "text": [
      "100%|██████████| 300/300 [10:06:45<00:00, 121.35s/trial, best loss: -0.165890816758358]   \n"
     ]
    },
    {
     "data": {
      "text/plain": "              Recommender      HR@1      HR@3      HR@5    HR@10    NDCG@1  \\\n0  XGBoostCBUIRecommender  0.013917  0.029192  0.083842  0.18296  0.013917   \n\n    NDCG@3    NDCG@5   NDCG@10  \n0  0.02231  0.043943  0.076412  ",
      "text/html": "<div>\n<style scoped>\n    .dataframe tbody tr th:only-of-type {\n        vertical-align: middle;\n    }\n\n    .dataframe tbody tr th {\n        vertical-align: top;\n    }\n\n    .dataframe thead th {\n        text-align: right;\n    }\n</style>\n<table border=\"1\" class=\"dataframe\">\n  <thead>\n    <tr style=\"text-align: right;\">\n      <th></th>\n      <th>Recommender</th>\n      <th>HR@1</th>\n      <th>HR@3</th>\n      <th>HR@5</th>\n      <th>HR@10</th>\n      <th>NDCG@1</th>\n      <th>NDCG@3</th>\n      <th>NDCG@5</th>\n      <th>NDCG@10</th>\n    </tr>\n  </thead>\n  <tbody>\n    <tr>\n      <th>0</th>\n      <td>XGBoostCBUIRecommender</td>\n      <td>0.013917</td>\n      <td>0.029192</td>\n      <td>0.083842</td>\n      <td>0.18296</td>\n      <td>0.013917</td>\n      <td>0.02231</td>\n      <td>0.043943</td>\n      <td>0.076412</td>\n    </tr>\n  </tbody>\n</table>\n</div>"
     },
     "metadata": {},
     "output_type": "display_data"
    },
    {
     "name": "stdout",
     "output_type": "stream",
     "text": [
      "Best parameters:\n",
      "{'learning_rate': 0.0019046616336092805, 'max_depth': 2.0, 'min_samples_split': 29.0, 'n_estimators': 137.0, 'n_neg_per_pos': 10.0}\n"
     ]
    }
   ],
   "source": [
    "# This tuning may take around 12 hours\n",
    "\n",
    "param_space = {\n",
    "    'n_neg_per_pos': hp.quniform('n_neg_per_pos', 1, 10, 1),\n",
    "    'n_estimators': hp.quniform('n_estimators', 10, 300, 1),\n",
    "    'max_depth': hp.quniform('max_depth', 2, 10, 1),\n",
    "    'min_samples_split': hp.quniform('min_samples_split', 2, 30, 1),\n",
    "    'learning_rate': hp.loguniform('learning_rate', np.log(0.001), np.log(0.1))\n",
    "}\n",
    "\n",
    "best_param_set = tune_recommender(XGBoostCBUIRecommender, interactions_df, items_df,\n",
    "                                  param_space, max_evals=300, show_progressbar=True, seed=seed)\n",
    "\n",
    "print(\"Best parameters:\")\n",
    "print(best_param_set)"
   ]
  },
  {
   "cell_type": "markdown",
   "id": "accredited-strap",
   "metadata": {},
   "source": [
    "# Final evaluation\n",
    "\n",
    "<span style=\"color:red\"><font size=\"4\">**Task:**</font></span><br> \n",
    "Run the final evaluation of your recommender and present its results against the Amazon recommender's results. You can present results for several of your recommenders. You just need to give the class name of your recommender and its tuned parameters below. If you present results for several recommenders, you should add a separate cell for each recommender and change the names of the DataFrames containing results."
   ]
  },
  {
   "cell_type": "code",
   "execution_count": 99,
   "id": "given-homework",
   "metadata": {},
   "outputs": [
    {
     "name": "stdout",
     "output_type": "stream",
     "text": [
      "4808.45422774107\n"
     ]
    },
    {
     "data": {
      "text/plain": "                       Recommender      HR@1      HR@3      HR@5     HR@10  \\\n0  LinearRegressionCBUIRecommender  0.049219  0.130007  0.175492  0.243381   \n\n     NDCG@1    NDCG@3    NDCG@5   NDCG@10  \n0  0.049219  0.094502  0.113541  0.135065  ",
      "text/html": "<div>\n<style scoped>\n    .dataframe tbody tr th:only-of-type {\n        vertical-align: middle;\n    }\n\n    .dataframe tbody tr th {\n        vertical-align: top;\n    }\n\n    .dataframe thead th {\n        text-align: right;\n    }\n</style>\n<table border=\"1\" class=\"dataframe\">\n  <thead>\n    <tr style=\"text-align: right;\">\n      <th></th>\n      <th>Recommender</th>\n      <th>HR@1</th>\n      <th>HR@3</th>\n      <th>HR@5</th>\n      <th>HR@10</th>\n      <th>NDCG@1</th>\n      <th>NDCG@3</th>\n      <th>NDCG@5</th>\n      <th>NDCG@10</th>\n    </tr>\n  </thead>\n  <tbody>\n    <tr>\n      <th>0</th>\n      <td>LinearRegressionCBUIRecommender</td>\n      <td>0.049219</td>\n      <td>0.130007</td>\n      <td>0.175492</td>\n      <td>0.243381</td>\n      <td>0.049219</td>\n      <td>0.094502</td>\n      <td>0.113541</td>\n      <td>0.135065</td>\n    </tr>\n  </tbody>\n</table>\n</div>"
     },
     "metadata": {},
     "output_type": "display_data"
    }
   ],
   "source": [
    "cb_user_item_recommender = LinearRegressionCBUIRecommender(\n",
    "    **{'n_neg_per_pos': 1.0})  # Initialize your recommender here with the best params from tuning\n",
    "\n",
    "# Give the name of your recommender in the line below\n",
    "linear_cbui_tts_results = [['LinearRegressionCBUIRecommender'] + list(evaluate_train_test_split_implicit(\n",
    "    cb_user_item_recommender, interactions_df, items_df))]\n",
    "\n",
    "linear_cbui_tts_results = pd.DataFrame(\n",
    "    linear_cbui_tts_results, columns=['Recommender', 'HR@1', 'HR@3', 'HR@5', 'HR@10', 'NDCG@1', 'NDCG@3', 'NDCG@5', 'NDCG@10'])\n",
    "\n",
    "display(linear_cbui_tts_results)"
   ]
  },
  {
   "cell_type": "code",
   "execution_count": 28,
   "id": "suited-nomination",
   "metadata": {},
   "outputs": [
    {
     "data": {
      "text/plain": "         Recommender      HR@1      HR@3      HR@5     HR@10    NDCG@1  \\\n0  AmazonRecommender  0.044128  0.118805  0.160557  0.223693  0.044128   \n\n     NDCG@3    NDCG@5   NDCG@10  \n0  0.086755  0.104216  0.124468  ",
      "text/html": "<div>\n<style scoped>\n    .dataframe tbody tr th:only-of-type {\n        vertical-align: middle;\n    }\n\n    .dataframe tbody tr th {\n        vertical-align: top;\n    }\n\n    .dataframe thead th {\n        text-align: right;\n    }\n</style>\n<table border=\"1\" class=\"dataframe\">\n  <thead>\n    <tr style=\"text-align: right;\">\n      <th></th>\n      <th>Recommender</th>\n      <th>HR@1</th>\n      <th>HR@3</th>\n      <th>HR@5</th>\n      <th>HR@10</th>\n      <th>NDCG@1</th>\n      <th>NDCG@3</th>\n      <th>NDCG@5</th>\n      <th>NDCG@10</th>\n    </tr>\n  </thead>\n  <tbody>\n    <tr>\n      <th>0</th>\n      <td>AmazonRecommender</td>\n      <td>0.044128</td>\n      <td>0.118805</td>\n      <td>0.160557</td>\n      <td>0.223693</td>\n      <td>0.044128</td>\n      <td>0.086755</td>\n      <td>0.104216</td>\n      <td>0.124468</td>\n    </tr>\n  </tbody>\n</table>\n</div>"
     },
     "metadata": {},
     "output_type": "display_data"
    }
   ],
   "source": [
    "from recommenders.amazon_recommender import AmazonRecommender\n",
    "\n",
    "amazon_recommender = AmazonRecommender()\n",
    "\n",
    "amazon_tts_results = [['AmazonRecommender'] + list(evaluate_train_test_split_implicit(\n",
    "    amazon_recommender, interactions_df, items_df))]\n",
    "\n",
    "amazon_tts_results = pd.DataFrame(\n",
    "    amazon_tts_results, columns=['Recommender', 'HR@1', 'HR@3', 'HR@5', 'HR@10', 'NDCG@1', 'NDCG@3', 'NDCG@5', 'NDCG@10'])\n",
    "\n",
    "display(amazon_tts_results)"
   ]
  },
  {
   "cell_type": "code",
   "execution_count": 100,
   "id": "moderate-printing",
   "metadata": {},
   "outputs": [
    {
     "data": {
      "text/plain": "                       Recommender      HR@1      HR@3      HR@5     HR@10  \\\n0  LinearRegressionCBUIRecommender  0.049219  0.130007  0.175492  0.243381   \n1                AmazonRecommender  0.044128  0.118805  0.160557  0.223693   \n\n     NDCG@1    NDCG@3    NDCG@5   NDCG@10  \n0  0.049219  0.094502  0.113541  0.135065  \n1  0.044128  0.086755  0.104216  0.124468  ",
      "text/html": "<div>\n<style scoped>\n    .dataframe tbody tr th:only-of-type {\n        vertical-align: middle;\n    }\n\n    .dataframe tbody tr th {\n        vertical-align: top;\n    }\n\n    .dataframe thead th {\n        text-align: right;\n    }\n</style>\n<table border=\"1\" class=\"dataframe\">\n  <thead>\n    <tr style=\"text-align: right;\">\n      <th></th>\n      <th>Recommender</th>\n      <th>HR@1</th>\n      <th>HR@3</th>\n      <th>HR@5</th>\n      <th>HR@10</th>\n      <th>NDCG@1</th>\n      <th>NDCG@3</th>\n      <th>NDCG@5</th>\n      <th>NDCG@10</th>\n    </tr>\n  </thead>\n  <tbody>\n    <tr>\n      <th>0</th>\n      <td>LinearRegressionCBUIRecommender</td>\n      <td>0.049219</td>\n      <td>0.130007</td>\n      <td>0.175492</td>\n      <td>0.243381</td>\n      <td>0.049219</td>\n      <td>0.094502</td>\n      <td>0.113541</td>\n      <td>0.135065</td>\n    </tr>\n    <tr>\n      <th>1</th>\n      <td>AmazonRecommender</td>\n      <td>0.044128</td>\n      <td>0.118805</td>\n      <td>0.160557</td>\n      <td>0.223693</td>\n      <td>0.044128</td>\n      <td>0.086755</td>\n      <td>0.104216</td>\n      <td>0.124468</td>\n    </tr>\n  </tbody>\n</table>\n</div>"
     },
     "metadata": {},
     "output_type": "display_data"
    }
   ],
   "source": [
    "tts_results = pd.concat([linear_cbui_tts_results, amazon_tts_results]).reset_index(drop=True)\n",
    "display(tts_results)"
   ]
  },
  {
   "cell_type": "code",
   "execution_count": null,
   "id": "white-demographic",
   "metadata": {
    "pycharm": {
     "is_executing": true
    }
   },
   "outputs": [],
   "source": []
  }
 ],
 "metadata": {
  "kernelspec": {
   "display_name": "Python 3",
   "language": "python",
   "name": "python3"
  },
  "language_info": {
   "codemirror_mode": {
    "name": "ipython",
    "version": 3
   },
   "file_extension": ".py",
   "mimetype": "text/x-python",
   "name": "python",
   "nbconvert_exporter": "python",
   "pygments_lexer": "ipython3",
   "version": "3.8.8"
  }
 },
 "nbformat": 4,
 "nbformat_minor": 5
}